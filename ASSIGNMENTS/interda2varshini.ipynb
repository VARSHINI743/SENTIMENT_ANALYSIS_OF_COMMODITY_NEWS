{
 "cells": [
  {
   "cell_type": "code",
   "execution_count": 4,
   "id": "910541ea",
   "metadata": {},
   "outputs": [],
   "source": [
    "import pandas as pd\n",
    "titanic_df = pd.read_csv(\"titanic.csv\")"
   ]
  },
  {
   "cell_type": "code",
   "execution_count": 3,
   "id": "8e71a8c9",
   "metadata": {},
   "outputs": [
    {
     "data": {
      "text/html": [
       "<div>\n",
       "<style scoped>\n",
       "    .dataframe tbody tr th:only-of-type {\n",
       "        vertical-align: middle;\n",
       "    }\n",
       "\n",
       "    .dataframe tbody tr th {\n",
       "        vertical-align: top;\n",
       "    }\n",
       "\n",
       "    .dataframe thead th {\n",
       "        text-align: right;\n",
       "    }\n",
       "</style>\n",
       "<table border=\"1\" class=\"dataframe\">\n",
       "  <thead>\n",
       "    <tr style=\"text-align: right;\">\n",
       "      <th></th>\n",
       "      <th>survived</th>\n",
       "      <th>pclass</th>\n",
       "      <th>sex</th>\n",
       "      <th>age</th>\n",
       "      <th>sibsp</th>\n",
       "      <th>parch</th>\n",
       "      <th>fare</th>\n",
       "      <th>embarked</th>\n",
       "      <th>class</th>\n",
       "      <th>who</th>\n",
       "      <th>adult_male</th>\n",
       "      <th>deck</th>\n",
       "      <th>embark_town</th>\n",
       "      <th>alive</th>\n",
       "      <th>alone</th>\n",
       "    </tr>\n",
       "  </thead>\n",
       "  <tbody>\n",
       "    <tr>\n",
       "      <th>0</th>\n",
       "      <td>0</td>\n",
       "      <td>3</td>\n",
       "      <td>male</td>\n",
       "      <td>22.0</td>\n",
       "      <td>1</td>\n",
       "      <td>0</td>\n",
       "      <td>7.2500</td>\n",
       "      <td>S</td>\n",
       "      <td>Third</td>\n",
       "      <td>man</td>\n",
       "      <td>True</td>\n",
       "      <td>NaN</td>\n",
       "      <td>Southampton</td>\n",
       "      <td>no</td>\n",
       "      <td>False</td>\n",
       "    </tr>\n",
       "    <tr>\n",
       "      <th>1</th>\n",
       "      <td>1</td>\n",
       "      <td>1</td>\n",
       "      <td>female</td>\n",
       "      <td>38.0</td>\n",
       "      <td>1</td>\n",
       "      <td>0</td>\n",
       "      <td>71.2833</td>\n",
       "      <td>C</td>\n",
       "      <td>First</td>\n",
       "      <td>woman</td>\n",
       "      <td>False</td>\n",
       "      <td>C</td>\n",
       "      <td>Cherbourg</td>\n",
       "      <td>yes</td>\n",
       "      <td>False</td>\n",
       "    </tr>\n",
       "    <tr>\n",
       "      <th>2</th>\n",
       "      <td>1</td>\n",
       "      <td>3</td>\n",
       "      <td>female</td>\n",
       "      <td>26.0</td>\n",
       "      <td>0</td>\n",
       "      <td>0</td>\n",
       "      <td>7.9250</td>\n",
       "      <td>S</td>\n",
       "      <td>Third</td>\n",
       "      <td>woman</td>\n",
       "      <td>False</td>\n",
       "      <td>NaN</td>\n",
       "      <td>Southampton</td>\n",
       "      <td>yes</td>\n",
       "      <td>True</td>\n",
       "    </tr>\n",
       "    <tr>\n",
       "      <th>3</th>\n",
       "      <td>1</td>\n",
       "      <td>1</td>\n",
       "      <td>female</td>\n",
       "      <td>35.0</td>\n",
       "      <td>1</td>\n",
       "      <td>0</td>\n",
       "      <td>53.1000</td>\n",
       "      <td>S</td>\n",
       "      <td>First</td>\n",
       "      <td>woman</td>\n",
       "      <td>False</td>\n",
       "      <td>C</td>\n",
       "      <td>Southampton</td>\n",
       "      <td>yes</td>\n",
       "      <td>False</td>\n",
       "    </tr>\n",
       "    <tr>\n",
       "      <th>4</th>\n",
       "      <td>0</td>\n",
       "      <td>3</td>\n",
       "      <td>male</td>\n",
       "      <td>35.0</td>\n",
       "      <td>0</td>\n",
       "      <td>0</td>\n",
       "      <td>8.0500</td>\n",
       "      <td>S</td>\n",
       "      <td>Third</td>\n",
       "      <td>man</td>\n",
       "      <td>True</td>\n",
       "      <td>NaN</td>\n",
       "      <td>Southampton</td>\n",
       "      <td>no</td>\n",
       "      <td>True</td>\n",
       "    </tr>\n",
       "  </tbody>\n",
       "</table>\n",
       "</div>"
      ],
      "text/plain": [
       "   survived  pclass     sex   age  sibsp  parch     fare embarked  class  \\\n",
       "0         0       3    male  22.0      1      0   7.2500        S  Third   \n",
       "1         1       1  female  38.0      1      0  71.2833        C  First   \n",
       "2         1       3  female  26.0      0      0   7.9250        S  Third   \n",
       "3         1       1  female  35.0      1      0  53.1000        S  First   \n",
       "4         0       3    male  35.0      0      0   8.0500        S  Third   \n",
       "\n",
       "     who  adult_male deck  embark_town alive  alone  \n",
       "0    man        True  NaN  Southampton    no  False  \n",
       "1  woman       False    C    Cherbourg   yes  False  \n",
       "2  woman       False  NaN  Southampton   yes   True  \n",
       "3  woman       False    C  Southampton   yes  False  \n",
       "4    man        True  NaN  Southampton    no   True  "
      ]
     },
     "execution_count": 3,
     "metadata": {},
     "output_type": "execute_result"
    }
   ],
   "source": [
    "titanic_df.head()"
   ]
  },
  {
   "cell_type": "markdown",
   "id": "5a26f628",
   "metadata": {},
   "source": [
    " Univariate Analysis\n",
    " Example: Plotting a histogram of passenger ages"
   ]
  },
  {
   "cell_type": "code",
   "execution_count": 7,
   "id": "5563693f",
   "metadata": {},
   "outputs": [
    {
     "data": {
      "image/png": "[encoded data removed]",
      "text/plain": [
       "<Figure size 576x432 with 1 Axes>"
      ]
     },
     "metadata": {
      "needs_background": "light"
     },
     "output_type": "display_data"
    }
   ],
   "source": [
    "import matplotlib.pyplot as plt\n",
    "import seaborn as sns\n",
    "plt.figure(figsize=(8, 6))\n",
    "sns.histplot(data=titanic_df, x='age', kde=True)\n",
    "plt.title('Passenger Age Distribution')\n",
    "plt.show()\n",
    "\n",
    "\n"
   ]
  },
  {
   "cell_type": "markdown",
   "id": "e0622dd3",
   "metadata": {},
   "source": [
    "Bi-Variate Analysis\n",
    "Plotting a bar plot of survival by passenger class"
   ]
  },
  {
   "cell_type": "code",
   "execution_count": 8,
   "id": "56bfb263",
   "metadata": {},
   "outputs": [
    {
     "data": {
      "image/png": "[encoded data removed]",
      "text/plain": [
       "<Figure size 576x432 with 1 Axes>"
      ]
     },
     "metadata": {
      "needs_background": "light"
     },
     "output_type": "display_data"
    }
   ],
   "source": [
    "plt.figure(figsize=(8, 6))\n",
    "sns.barplot(data=titanic_df, x='pclass', y='survived', ci=None)\n",
    "plt.title('Survival Rate by Passenger Class')\n",
    "plt.show()"
   ]
  },
  {
   "cell_type": "markdown",
   "id": "14f20835",
   "metadata": {},
   "source": [
    "Multi-Variate Analysis\n",
    "Plotting a scatter plot of fare versus age colored by survival"
   ]
  },
  {
   "cell_type": "code",
   "execution_count": 9,
   "id": "e7ccaf50",
   "metadata": {},
   "outputs": [
    {
     "data": {
      "image/png": "[encoded data removed]",
      "text/plain": [
       "<Figure size 576x432 with 1 Axes>"
      ]
     },
     "metadata": {
      "needs_background": "light"
     },
     "output_type": "display_data"
    }
   ],
   "source": [
    "plt.figure(figsize=(8, 6))\n",
    "sns.scatterplot(data=titanic_df, x='age', y='fare', hue='survived')\n",
    "plt.title('Fare versus Age colored by Survival')\n",
    "plt.show()"
   ]
  },
  {
   "cell_type": "markdown",
   "id": "b23790dd",
   "metadata": {},
   "source": [
    "descriptive statistics"
   ]
  },
  {
   "cell_type": "code",
   "execution_count": 10,
   "id": "b37acbee",
   "metadata": {},
   "outputs": [
    {
     "data": {
      "text/html": [
       "<div>\n",
       "<style scoped>\n",
       "    .dataframe tbody tr th:only-of-type {\n",
       "        vertical-align: middle;\n",
       "    }\n",
       "\n",
       "    .dataframe tbody tr th {\n",
       "        vertical-align: top;\n",
       "    }\n",
       "\n",
       "    .dataframe thead th {\n",
       "        text-align: right;\n",
       "    }\n",
       "</style>\n",
       "<table border=\"1\" class=\"dataframe\">\n",
       "  <thead>\n",
       "    <tr style=\"text-align: right;\">\n",
       "      <th></th>\n",
       "      <th>survived</th>\n",
       "      <th>pclass</th>\n",
       "      <th>age</th>\n",
       "      <th>sibsp</th>\n",
       "      <th>parch</th>\n",
       "      <th>fare</th>\n",
       "    </tr>\n",
       "  </thead>\n",
       "  <tbody>\n",
       "    <tr>\n",
       "      <th>count</th>\n",
       "      <td>891.000000</td>\n",
       "      <td>891.000000</td>\n",
       "      <td>714.000000</td>\n",
       "      <td>891.000000</td>\n",
       "      <td>891.000000</td>\n",
       "      <td>891.000000</td>\n",
       "    </tr>\n",
       "    <tr>\n",
       "      <th>mean</th>\n",
       "      <td>0.383838</td>\n",
       "      <td>2.308642</td>\n",
       "      <td>29.699118</td>\n",
       "      <td>0.523008</td>\n",
       "      <td>0.381594</td>\n",
       "      <td>32.204208</td>\n",
       "    </tr>\n",
       "    <tr>\n",
       "      <th>std</th>\n",
       "      <td>0.486592</td>\n",
       "      <td>0.836071</td>\n",
       "      <td>14.526497</td>\n",
       "      <td>1.102743</td>\n",
       "      <td>0.806057</td>\n",
       "      <td>49.693429</td>\n",
       "    </tr>\n",
       "    <tr>\n",
       "      <th>min</th>\n",
       "      <td>0.000000</td>\n",
       "      <td>1.000000</td>\n",
       "      <td>0.420000</td>\n",
       "      <td>0.000000</td>\n",
       "      <td>0.000000</td>\n",
       "      <td>0.000000</td>\n",
       "    </tr>\n",
       "    <tr>\n",
       "      <th>25%</th>\n",
       "      <td>0.000000</td>\n",
       "      <td>2.000000</td>\n",
       "      <td>20.125000</td>\n",
       "      <td>0.000000</td>\n",
       "      <td>0.000000</td>\n",
       "      <td>7.910400</td>\n",
       "    </tr>\n",
       "    <tr>\n",
       "      <th>50%</th>\n",
       "      <td>0.000000</td>\n",
       "      <td>3.000000</td>\n",
       "      <td>28.000000</td>\n",
       "      <td>0.000000</td>\n",
       "      <td>0.000000</td>\n",
       "      <td>14.454200</td>\n",
       "    </tr>\n",
       "    <tr>\n",
       "      <th>75%</th>\n",
       "      <td>1.000000</td>\n",
       "      <td>3.000000</td>\n",
       "      <td>38.000000</td>\n",
       "      <td>1.000000</td>\n",
       "      <td>0.000000</td>\n",
       "      <td>31.000000</td>\n",
       "    </tr>\n",
       "    <tr>\n",
       "      <th>max</th>\n",
       "      <td>1.000000</td>\n",
       "      <td>3.000000</td>\n",
       "      <td>80.000000</td>\n",
       "      <td>8.000000</td>\n",
       "      <td>6.000000</td>\n",
       "      <td>512.329200</td>\n",
       "    </tr>\n",
       "  </tbody>\n",
       "</table>\n",
       "</div>"
      ],
      "text/plain": [
       "         survived      pclass         age       sibsp       parch        fare\n",
       "count  891.000000  891.000000  714.000000  891.000000  891.000000  891.000000\n",
       "mean     0.383838    2.308642   29.699118    0.523008    0.381594   32.204208\n",
       "std      0.486592    0.836071   14.526497    1.102743    0.806057   49.693429\n",
       "min      0.000000    1.000000    0.420000    0.000000    0.000000    0.000000\n",
       "25%      0.000000    2.000000   20.125000    0.000000    0.000000    7.910400\n",
       "50%      0.000000    3.000000   28.000000    0.000000    0.000000   14.454200\n",
       "75%      1.000000    3.000000   38.000000    1.000000    0.000000   31.000000\n",
       "max      1.000000    3.000000   80.000000    8.000000    6.000000  512.329200"
      ]
     },
     "execution_count": 10,
     "metadata": {},
     "output_type": "execute_result"
    }
   ],
   "source": [
    "titanic_df.describe()"
   ]
  },
  {
   "cell_type": "markdown",
   "id": "0f2f9083",
   "metadata": {},
   "source": [
    " Handle missing values"
   ]
  },
  {
   "cell_type": "code",
   "execution_count": 5,
   "id": "d3c556bb",
   "metadata": {},
   "outputs": [
    {
     "name": "stdout",
     "output_type": "stream",
     "text": [
      "     survived  pclass     sex        age  sibsp  parch     fare embarked  \\\n",
      "0           0       3    male  22.000000      1      0   7.2500        S   \n",
      "1           1       1  female  38.000000      1      0  71.2833        C   \n",
      "2           1       3  female  26.000000      0      0   7.9250        S   \n",
      "3           1       1  female  35.000000      1      0  53.1000        S   \n",
      "4           0       3    male  35.000000      0      0   8.0500        S   \n",
      "..        ...     ...     ...        ...    ...    ...      ...      ...   \n",
      "886         0       2    male  27.000000      0      0  13.0000        S   \n",
      "887         1       1  female  19.000000      0      0  30.0000        S   \n",
      "888         0       3  female  29.699118      1      2  23.4500        S   \n",
      "889         1       1    male  26.000000      0      0  30.0000        C   \n",
      "890         0       3    male  32.000000      0      0   7.7500        Q   \n",
      "\n",
      "      class    who  adult_male deck  embark_town alive  alone  \n",
      "0     Third    man        True  NaN  Southampton    no  False  \n",
      "1     First  woman       False    C    Cherbourg   yes  False  \n",
      "2     Third  woman       False  NaN  Southampton   yes   True  \n",
      "3     First  woman       False    C  Southampton   yes  False  \n",
      "4     Third    man        True  NaN  Southampton    no   True  \n",
      "..      ...    ...         ...  ...          ...   ...    ...  \n",
      "886  Second    man        True  NaN  Southampton    no   True  \n",
      "887   First  woman       False    B  Southampton   yes   True  \n",
      "888   Third  woman       False  NaN  Southampton    no  False  \n",
      "889   First    man        True    C    Cherbourg   yes   True  \n",
      "890   Third    man        True  NaN   Queenstown    no   True  \n",
      "\n",
      "[891 rows x 15 columns]\n"
     ]
    }
   ],
   "source": [
    "titanic_df['age'].fillna(titanic_df['age'].mean(), inplace=True)\n",
    "print(titanic_df)\n"
   ]
  },
  {
   "cell_type": "code",
   "execution_count": 6,
   "id": "ce466567",
   "metadata": {},
   "outputs": [
    {
     "name": "stdout",
     "output_type": "stream",
     "text": [
      "     survived  pclass     sex        age  sibsp  parch     fare embarked  \\\n",
      "0           0       3    male  22.000000      1      0   7.2500        S   \n",
      "1           1       1  female  38.000000      1      0  71.2833        C   \n",
      "2           1       3  female  26.000000      0      0   7.9250        S   \n",
      "3           1       1  female  35.000000      1      0  53.1000        S   \n",
      "4           0       3    male  35.000000      0      0   8.0500        S   \n",
      "..        ...     ...     ...        ...    ...    ...      ...      ...   \n",
      "886         0       2    male  27.000000      0      0  13.0000        S   \n",
      "887         1       1  female  19.000000      0      0  30.0000        S   \n",
      "888         0       3  female  29.699118      1      2  23.4500        S   \n",
      "889         1       1    male  26.000000      0      0  30.0000        C   \n",
      "890         0       3    male  32.000000      0      0   7.7500        Q   \n",
      "\n",
      "      class    who  adult_male    deck  embark_town alive  alone  \n",
      "0     Third    man        True  Unkown  Southampton    no  False  \n",
      "1     First  woman       False       C    Cherbourg   yes  False  \n",
      "2     Third  woman       False  Unkown  Southampton   yes   True  \n",
      "3     First  woman       False       C  Southampton   yes  False  \n",
      "4     Third    man        True  Unkown  Southampton    no   True  \n",
      "..      ...    ...         ...     ...          ...   ...    ...  \n",
      "886  Second    man        True  Unkown  Southampton    no   True  \n",
      "887   First  woman       False       B  Southampton   yes   True  \n",
      "888   Third  woman       False  Unkown  Southampton    no  False  \n",
      "889   First    man        True       C    Cherbourg   yes   True  \n",
      "890   Third    man        True  Unkown   Queenstown    no   True  \n",
      "\n",
      "[891 rows x 15 columns]\n"
     ]
    }
   ],
   "source": [
    "titanic_df['deck'].fillna(\"Unkown\", inplace=True)\n",
    "print(titanic_df)"
   ]
  },
  {
   "cell_type": "markdown",
   "id": "3332b775",
   "metadata": {},
   "source": [
    "Find and replace outliers"
   ]
  },
  {
   "cell_type": "code",
   "execution_count": 7,
   "id": "6fb612c7",
   "metadata": {},
   "outputs": [
    {
     "name": "stdout",
     "output_type": "stream",
     "text": [
      "     survived  pclass     sex        age  sibsp  parch     fare embarked  \\\n",
      "0           0       3    male  22.000000      1      0   7.2500        S   \n",
      "1           1       1  female  38.000000      1      0  65.6344        C   \n",
      "2           1       3  female  26.000000      0      0   7.9250        S   \n",
      "3           1       1  female  35.000000      1      0  53.1000        S   \n",
      "4           0       3    male  35.000000      0      0   8.0500        S   \n",
      "..        ...     ...     ...        ...    ...    ...      ...      ...   \n",
      "886         0       2    male  27.000000      0      0  13.0000        S   \n",
      "887         1       1  female  19.000000      0      0  30.0000        S   \n",
      "888         0       3  female  29.699118      1      2  23.4500        S   \n",
      "889         1       1    male  26.000000      0      0  30.0000        C   \n",
      "890         0       3    male  32.000000      0      0   7.7500        Q   \n",
      "\n",
      "      class    who  adult_male    deck  embark_town alive  alone  \n",
      "0     Third    man        True  Unkown  Southampton    no  False  \n",
      "1     First  woman       False       C    Cherbourg   yes  False  \n",
      "2     Third  woman       False  Unkown  Southampton   yes   True  \n",
      "3     First  woman       False       C  Southampton   yes  False  \n",
      "4     Third    man        True  Unkown  Southampton    no   True  \n",
      "..      ...    ...         ...     ...          ...   ...    ...  \n",
      "886  Second    man        True  Unkown  Southampton    no   True  \n",
      "887   First  woman       False       B  Southampton   yes   True  \n",
      "888   Third  woman       False  Unkown  Southampton    no  False  \n",
      "889   First    man        True       C    Cherbourg   yes   True  \n",
      "890   Third    man        True  Unkown   Queenstown    no   True  \n",
      "\n",
      "[891 rows x 15 columns]\n"
     ]
    }
   ],
   "source": [
    "Q1 = titanic_df['fare'].quantile(0.25)\n",
    "Q3 = titanic_df['fare'].quantile(0.75)\n",
    "IQR = Q3 - Q1\n",
    "\n",
    "lower_bound = Q1 - 1.5 * IQR\n",
    "upper_bound = Q3 + 1.5 * IQR\n",
    "\n",
    "titanic_df['fare'] = titanic_df['fare'].apply(lambda x: upper_bound if x > upper_bound else lower_bound if x < lower_bound else x)\n",
    "print(titanic_df)"
   ]
  },
  {
   "cell_type": "markdown",
   "id": "38030cb6",
   "metadata": {},
   "source": [
    "Check for categorical columns and perform encoding"
   ]
  },
  {
   "cell_type": "code",
   "execution_count": 10,
   "id": "78cc233c",
   "metadata": {},
   "outputs": [
    {
     "name": "stdout",
     "output_type": "stream",
     "text": [
      "     survived  pclass        age  sibsp  parch     fare  sex_female  sex_male  \\\n",
      "0           0       3  22.000000      1      0   7.2500           0         1   \n",
      "1           1       1  38.000000      1      0  65.6344           1         0   \n",
      "2           1       3  26.000000      0      0   7.9250           1         0   \n",
      "3           1       1  35.000000      1      0  53.1000           1         0   \n",
      "4           0       3  35.000000      0      0   8.0500           0         1   \n",
      "..        ...     ...        ...    ...    ...      ...         ...       ...   \n",
      "886         0       2  27.000000      0      0  13.0000           0         1   \n",
      "887         1       1  19.000000      0      0  30.0000           1         0   \n",
      "888         0       3  29.699118      1      2  23.4500           1         0   \n",
      "889         1       1  26.000000      0      0  30.0000           0         1   \n",
      "890         0       3  32.000000      0      0   7.7500           0         1   \n",
      "\n",
      "     embarked_C  embarked_Q  ...  deck_F  deck_G  deck_Unkown  \\\n",
      "0             0           0  ...       0       0            1   \n",
      "1             1           0  ...       0       0            0   \n",
      "2             0           0  ...       0       0            1   \n",
      "3             0           0  ...       0       0            0   \n",
      "4             0           0  ...       0       0            1   \n",
      "..          ...         ...  ...     ...     ...          ...   \n",
      "886           0           0  ...       0       0            1   \n",
      "887           0           0  ...       0       0            0   \n",
      "888           0           0  ...       0       0            1   \n",
      "889           1           0  ...       0       0            0   \n",
      "890           0           1  ...       0       0            1   \n",
      "\n",
      "     embark_town_Cherbourg  embark_town_Queenstown  embark_town_Southampton  \\\n",
      "0                        0                       0                        1   \n",
      "1                        1                       0                        0   \n",
      "2                        0                       0                        1   \n",
      "3                        0                       0                        1   \n",
      "4                        0                       0                        1   \n",
      "..                     ...                     ...                      ...   \n",
      "886                      0                       0                        1   \n",
      "887                      0                       0                        1   \n",
      "888                      0                       0                        1   \n",
      "889                      1                       0                        0   \n",
      "890                      0                       1                        0   \n",
      "\n",
      "     alive_no  alive_yes  alone_False  alone_True  \n",
      "0           1          0            1           0  \n",
      "1           0          1            1           0  \n",
      "2           0          1            0           1  \n",
      "3           0          1            1           0  \n",
      "4           1          0            0           1  \n",
      "..        ...        ...          ...         ...  \n",
      "886         1          0            0           1  \n",
      "887         0          1            0           1  \n",
      "888         1          0            1           0  \n",
      "889         0          1            0           1  \n",
      "890         1          0            0           1  \n",
      "\n",
      "[891 rows x 34 columns]\n"
     ]
    }
   ],
   "source": [
    "encoded_df = pd.get_dummies(titanic_df, columns=['sex','embarked','class','who','adult_male','deck','embark_town','alive','alone'])\n",
    "print(encoded_df)"
   ]
  },
  {
   "cell_type": "markdown",
   "id": "f26f2dd1",
   "metadata": {},
   "source": [
    "Split the data into dependent and independent variables"
   ]
  },
  {
   "cell_type": "code",
   "execution_count": 12,
   "id": "811c5cd7",
   "metadata": {},
   "outputs": [
    {
     "name": "stdout",
     "output_type": "stream",
     "text": [
      "   pclass     sex   age  sibsp  parch     fare embarked  class    who  \\\n",
      "0       3    male  22.0      1      0   7.2500        S  Third    man   \n",
      "1       1  female  38.0      1      0  65.6344        C  First  woman   \n",
      "2       3  female  26.0      0      0   7.9250        S  Third  woman   \n",
      "3       1  female  35.0      1      0  53.1000        S  First  woman   \n",
      "4       3    male  35.0      0      0   8.0500        S  Third    man   \n",
      "\n",
      "   adult_male    deck  embark_town alive  alone  \n",
      "0        True  Unkown  Southampton    no  False  \n",
      "1       False       C    Cherbourg   yes  False  \n",
      "2       False  Unkown  Southampton   yes   True  \n",
      "3       False       C  Southampton   yes  False  \n",
      "4        True  Unkown  Southampton    no   True  \n",
      "0    0\n",
      "1    1\n",
      "2    1\n",
      "3    1\n",
      "4    0\n",
      "Name: survived, dtype: int64\n"
     ]
    }
   ],
   "source": [
    "import pandas as pd\n",
    "features = titanic_df.drop('survived', axis=1)\n",
    "target = titanic_df['survived']\n",
    "print(features.head())\n",
    "print(target.head())"
   ]
  },
  {
   "cell_type": "markdown",
   "id": "d4f56198",
   "metadata": {},
   "source": [
    "Scale the independent variables"
   ]
  },
  {
   "cell_type": "code",
   "execution_count": 17,
   "id": "20e36e55",
   "metadata": {},
   "outputs": [
    {
     "name": "stdout",
     "output_type": "stream",
     "text": [
      "   survived  pclass       age  sibsp  parch      fare  sex_female  sex_male  \\\n",
      "0       0.0     1.0  0.271174  0.125    0.0  0.110460         0.0       1.0   \n",
      "1       1.0     0.0  0.472229  0.125    0.0  1.000000         1.0       0.0   \n",
      "2       1.0     1.0  0.321438  0.000    0.0  0.120745         1.0       0.0   \n",
      "3       1.0     0.0  0.434531  0.125    0.0  0.809027         1.0       0.0   \n",
      "4       0.0     1.0  0.434531  0.000    0.0  0.122649         0.0       1.0   \n",
      "\n",
      "   embarked_C  embarked_Q  ...  deck_F  deck_G  deck_Unkown  \\\n",
      "0         0.0         0.0  ...     0.0     0.0          1.0   \n",
      "1         1.0         0.0  ...     0.0     0.0          0.0   \n",
      "2         0.0         0.0  ...     0.0     0.0          1.0   \n",
      "3         0.0         0.0  ...     0.0     0.0          0.0   \n",
      "4         0.0         0.0  ...     0.0     0.0          1.0   \n",
      "\n",
      "   embark_town_Cherbourg  embark_town_Queenstown  embark_town_Southampton  \\\n",
      "0                    0.0                     0.0                      1.0   \n",
      "1                    1.0                     0.0                      0.0   \n",
      "2                    0.0                     0.0                      1.0   \n",
      "3                    0.0                     0.0                      1.0   \n",
      "4                    0.0                     0.0                      1.0   \n",
      "\n",
      "   alive_no  alive_yes  alone_False  alone_True  \n",
      "0       1.0        0.0          1.0         0.0  \n",
      "1       0.0        1.0          1.0         0.0  \n",
      "2       0.0        1.0          0.0         1.0  \n",
      "3       0.0        1.0          1.0         0.0  \n",
      "4       1.0        0.0          0.0         1.0  \n",
      "\n",
      "[5 rows x 34 columns]\n"
     ]
    }
   ],
   "source": [
    "from sklearn.preprocessing import MinMaxScaler\n",
    "import pandas as pd\n",
    "scaler = MinMaxScaler()\n",
    "scaled_features = scaler.fit_transform(encoded_df)\n",
    "scaled_features_df = pd.DataFrame(scaled_features, columns=encoded_df.columns)\n",
    "print(scaled_features_df.head())"
   ]
  },
  {
   "cell_type": "code",
   "execution_count": 18,
   "id": "5b7ac469",
   "metadata": {},
   "outputs": [
    {
     "name": "stdout",
     "output_type": "stream",
     "text": [
      "Training set shape: (712, 34)\n",
      "Testing set shape: (179, 34)\n"
     ]
    }
   ],
   "source": [
    "from sklearn.model_selection import train_test_split\n",
    "import pandas as pd\n",
    "X_train, X_test, y_train, y_test = train_test_split(scaled_features_df, target, test_size=0.2, random_state=42)\n",
    "print(\"Training set shape:\", X_train.shape)\n",
    "print(\"Testing set shape:\", X_test.shape)"
   ]
  },
  {
   "cell_type": "code",
   "execution_count": null,
   "id": "a83381d0",
   "metadata": {},
   "outputs": [],
   "source": []
  }
 ],
 "metadata": {
  "kernelspec": {
   "display_name": "Python 3 (ipykernel)",
   "language": "python",
   "name": "python3"
  },
  "language_info": {
   "codemirror_mode": {
    "name": "ipython",
    "version": 3
   },
   "file_extension": ".py",
   "mimetype": "text/x-python",
   "name": "python",
   "nbconvert_exporter": "python",
   "pygments_lexer": "ipython3",
   "version": "3.9.12"
  }
 },
 "nbformat": 4,
 "nbformat_minor": 5
}
